{
 "cells": [
  {
   "cell_type": "markdown",
   "metadata": {},
   "source": [
    "# Projeto ETL com Python"
   ]
  },
  {
   "cell_type": "markdown",
   "metadata": {},
   "source": [
    "**Contexto**: Você precisa criar uma ferramenta que guarde os produtos e valores comprados em um e-commerce"
   ]
  },
  {
   "cell_type": "markdown",
   "metadata": {},
   "source": [
    "##  Extract\n",
    "\n",
    "Os dados serão retirados da planilha ('Vendas.csv') e carregados no sistema"
   ]
  },
  {
   "cell_type": "code",
   "execution_count": 110,
   "metadata": {},
   "outputs": [
    {
     "name": "stdout",
     "output_type": "stream",
     "text": [
      "       nome  preco  quantidade\n",
      "0  Notebook   5000          25\n",
      "1     Mouse    200           0\n",
      "2   Teclado    400           7\n",
      "3   Monitor   2100           0\n",
      "\n",
      "Valor total vendido R$127800.00\n"
     ]
    }
   ],
   "source": [
    "import pandas as pd\n",
    "\n",
    "df = pd.read_csv('Vendas.csv')\n",
    "\n",
    "\n",
    "print(df)\n",
    "total = (df['quantidade'] * df['preco']).sum()\n",
    "print(f'\\nValor total vendido R${total:.2f}')"
   ]
  },
  {
   "cell_type": "markdown",
   "metadata": {},
   "source": [
    "## Transform\n",
    "\n",
    "Um quantidade aleatória dos produtos é gerada para simular o total de vendas do dia"
   ]
  },
  {
   "cell_type": "code",
   "execution_count": 108,
   "metadata": {},
   "outputs": [
    {
     "name": "stdout",
     "output_type": "stream",
     "text": [
      "       nome  preco  quantidade\n",
      "0  Notebook   5000          25\n",
      "1     Mouse    200           0\n",
      "2   Teclado    400           7\n",
      "3   Monitor   2100           0\n",
      "\n",
      "Valor total vendido R$127800.00\n"
     ]
    }
   ],
   "source": [
    "import random as rnd\n",
    "\n",
    "novas_vendas = rnd.randint(0,10)\n",
    "produto = rnd.randint(0,3)\n",
    "\n",
    "df.loc[produto,('quantidade')] += novas_vendas\n",
    "print(df)\n",
    "total = (df['quantidade'] * df['preco']).sum()\n",
    "print(f'\\nValor total vendido R${total:.2f}')"
   ]
  },
  {
   "cell_type": "markdown",
   "metadata": {},
   "source": [
    "## Load\n",
    "\n",
    "O faturamento do dia é armazenado numa base de dados"
   ]
  },
  {
   "cell_type": "code",
   "execution_count": 109,
   "metadata": {},
   "outputs": [],
   "source": [
    "df.to_csv('Vendas.csv', index=False)\n",
    "\n"
   ]
  }
 ],
 "metadata": {
  "kernelspec": {
   "display_name": "Python 3",
   "language": "python",
   "name": "python3"
  },
  "language_info": {
   "codemirror_mode": {
    "name": "ipython",
    "version": 3
   },
   "file_extension": ".py",
   "mimetype": "text/x-python",
   "name": "python",
   "nbconvert_exporter": "python",
   "pygments_lexer": "ipython3",
   "version": "3.11.3"
  }
 },
 "nbformat": 4,
 "nbformat_minor": 2
}
